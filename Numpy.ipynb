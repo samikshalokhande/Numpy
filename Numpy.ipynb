{
  "nbformat": 4,
  "nbformat_minor": 0,
  "metadata": {
    "colab": {
      "name": "Numpy.ipynb",
      "provenance": [],
      "collapsed_sections": [],
      "authorship_tag": "ABX9TyMYbqmvH8a0D/HUNNFuugrU",
      "include_colab_link": true
    },
    "kernelspec": {
      "name": "python3",
      "display_name": "Python 3"
    }
  },
  "cells": [
    {
      "cell_type": "markdown",
      "metadata": {
        "id": "view-in-github",
        "colab_type": "text"
      },
      "source": [
        "<a href=\"https://colab.research.google.com/github/samikshalokhande/Numpy/blob/main/Numpy.ipynb\" target=\"_parent\"><img src=\"https://colab.research.google.com/assets/colab-badge.svg\" alt=\"Open In Colab\"/></a>"
      ]
    },
    {
      "cell_type": "code",
      "metadata": {
        "id": "Ly5JGBhnREBX"
      },
      "source": [
        "#import numpy\n",
        "import numpy as np\n",
        "import numpy \n",
        "from numpy import *"
      ],
      "execution_count": 175,
      "outputs": []
    },
    {
      "cell_type": "code",
      "metadata": {
        "id": "E-D_baxeR7I0",
        "outputId": "79a49eb3-3ec4-4b57-819c-c3278e4442e3",
        "colab": {
          "base_uri": "https://localhost:8080/"
        }
      },
      "source": [
        "#numpy takes less memory than list\n",
        "import sys\n",
        "list1 = range(1000)\n",
        "list1\n",
        "print(\"Size of list = \"+str(sys.getsizeof(len(list1))))\n",
        "print(\"Size of list *5 = \"+str(sys.getsizeof(5)*(len(list1))))\n",
        "print(\"-----------------\")\n",
        "num_arr = np.arange(1000)\n",
        "print(\"Size of num_arr = \"+str(num_arr.size))\n",
        "print(\"Size of num_arr = \"+str(num_arr.size*5))\n",
        "print(\"Size of num_arr *1000= \"+str(num_arr.size*num_arr.itemsize))\n",
        "#size of numpy arr is smaller than list"
      ],
      "execution_count": 148,
      "outputs": [
        {
          "output_type": "stream",
          "text": [
            "Size of list = 28\n",
            "Size of list *5 = 28000\n",
            "-----------------\n",
            "Size of num_arr = 1000\n",
            "Size of num_arr = 5000\n",
            "Size of num_arr *1000= 8000\n"
          ],
          "name": "stdout"
        }
      ]
    },
    {
      "cell_type": "code",
      "metadata": {
        "id": "uuDCyzt3SR67",
        "outputId": "657def85-715a-457d-e9f4-4ef17c3babe5",
        "colab": {
          "base_uri": "https://localhost:8080/"
        }
      },
      "source": [
        "#numpy array is faster than list\n",
        "import time\n",
        "x=300000\n",
        "l1= range(x)\n",
        "l2= range(x)\n",
        "\n",
        "x1= np.arange(x)\n",
        "x2= np.arange(x)\n",
        "\n",
        "#listtime\n",
        "start =time.time()\n",
        "res1 = [(a,b) for a,b in zip(l1,l2)]\n",
        "print(\"List time req: \"+str((time.time()-start)*1000))\n",
        "\n",
        "start =time.time()\n",
        "res2=x1+x2\n",
        "print(\"Numpy arr time req: \"+str((time.time()-start)*1000))"
      ],
      "execution_count": 149,
      "outputs": [
        {
          "output_type": "stream",
          "text": [
            "List time req: 94.36726570129395\n",
            "Numpy arr time req: 0.7812976837158203\n"
          ],
          "name": "stdout"
        }
      ]
    },
    {
      "cell_type": "code",
      "metadata": {
        "id": "9b6qye4MV4X3",
        "outputId": "0132e05d-88ec-4dca-d9db-423447d932d3",
        "colab": {
          "base_uri": "https://localhost:8080/"
        }
      },
      "source": [
        "#list vs Numpy array\n",
        "#calculate BMI = w/h*h\n",
        "h = [72,58,65,40]\n",
        "w = [170,100,200,136]\n",
        "#will show an error unsupported operand type(s)\n",
        "#bmi1 = w/h**2\n",
        "print(h*2)\n",
        "\n",
        "nh_in_inch = np.array(h)*0.0254\n",
        "nw_in_kg = np.array(w)*0.453\n",
        "bmi2 = nw_in_kg/nh_in_inch**2\n",
        "print(bmi2)\n",
        "# nh_in_inch*2"
      ],
      "execution_count": 12,
      "outputs": [
        {
          "output_type": "stream",
          "text": [
            "[72, 58, 65, 40, 72, 58, 65, 40]\n",
            "[23.02579837 20.87251499 33.2379363  59.68286937]\n"
          ],
          "name": "stdout"
        }
      ]
    },
    {
      "cell_type": "code",
      "metadata": {
        "id": "LE1UtAIgXsp5",
        "outputId": "b2ed815e-fb43-4b06-d704-ca06eebef015",
        "colab": {
          "base_uri": "https://localhost:8080/"
        }
      },
      "source": [
        "#numpy array contains 1 datatype\n",
        "print(np.array([1,11.5,\"Hi\",True])) #converted everything to string\n",
        "print(np.array([1,11.5,True])) #converted everything to float\n",
        "print(np.array([1,11.5]))   #converted everything to float"
      ],
      "execution_count": 151,
      "outputs": [
        {
          "output_type": "stream",
          "text": [
            "['1' '11.5' 'Hi' 'True']\n",
            "[ 1.  11.5  1. ]\n",
            "[ 1.  11.5]\n"
          ],
          "name": "stdout"
        }
      ]
    },
    {
      "cell_type": "code",
      "metadata": {
        "id": "rZ52Z8UMY5qW",
        "outputId": "22813800-d547-400d-b7b2-992076f08ae8",
        "colab": {
          "base_uri": "https://localhost:8080/"
        }
      },
      "source": [
        "#adding\n",
        "list = [1,2,3,4]\n",
        "print(list+list)\n",
        "\n",
        "narr = np.array([1,2,3,4])\n",
        "print(narr + narr)"
      ],
      "execution_count": 152,
      "outputs": [
        {
          "output_type": "stream",
          "text": [
            "[1, 2, 3, 4, 1, 2, 3, 4]\n",
            "[2 4 6 8]\n"
          ],
          "name": "stdout"
        }
      ]
    },
    {
      "cell_type": "code",
      "metadata": {
        "id": "-MM1T2M5ZoKg",
        "outputId": "08aaf29d-d293-4748-dbe0-afce29d12b4e",
        "colab": {
          "base_uri": "https://localhost:8080/"
        }
      },
      "source": [
        "#subsetting\n",
        "arr = np.array([1,2,3,4,5,6])\n",
        "print(arr[0])\n",
        "print(arr[-1])\n",
        "print(arr[1:4]) #2nd element is exclusive [inclusive:exclusive]\n",
        "print(arr[2:])\n",
        "print(arr[:-2])\n",
        "\n",
        "\n",
        "print(arr<4)\n",
        "print(arr[arr<4]) #values"
      ],
      "execution_count": 153,
      "outputs": [
        {
          "output_type": "stream",
          "text": [
            "1\n",
            "6\n",
            "[2 3 4]\n",
            "[3 4 5 6]\n",
            "[1 2 3 4]\n",
            "[ True  True  True False False False]\n",
            "[1 2 3]\n"
          ],
          "name": "stdout"
        }
      ]
    },
    {
      "cell_type": "code",
      "metadata": {
        "id": "57coc8xPaEOh",
        "outputId": "63cb800e-7f40-49d9-e774-6297ff6dcdb6",
        "colab": {
          "base_uri": "https://localhost:8080/"
        }
      },
      "source": [
        "#type of numpy arr\n",
        "arr = np.array([1,2,3,4,5,6])\n",
        "l1 = [1,2,3]\n",
        "l2 = range(6)\n",
        "print(type(arr))\n",
        "print(type(l1))\n",
        "print(type(l2))"
      ],
      "execution_count": 154,
      "outputs": [
        {
          "output_type": "stream",
          "text": [
            "<class 'numpy.ndarray'>\n",
            "<class 'list'>\n",
            "<class 'range'>\n"
          ],
          "name": "stdout"
        }
      ]
    },
    {
      "cell_type": "code",
      "metadata": {
        "id": "vQteBBbFbJ-z"
      },
      "source": [
        "#2D Array"
      ],
      "execution_count": 155,
      "outputs": []
    },
    {
      "cell_type": "code",
      "metadata": {
        "id": "dF6v7Xp8b4Zs",
        "outputId": "3402ab4d-9558-4ea7-d013-ec9fccbcd5fd",
        "colab": {
          "base_uri": "https://localhost:8080/"
        }
      },
      "source": [
        "arr1 = [[200,80],\n",
        "        [250,75],\n",
        "        [180,25],\n",
        "        [188,15.4]]\n",
        "np_arr1 = np.array(arr1)         \n",
        "print(np_arr1)   #everything converted to float\n",
        "print(\"-------------------\")\n",
        "print(type(np_arr1))\n",
        "print(\"-------------------\")\n",
        "print(np_arr1.shape)  #row,col\n",
        "print(len(np_arr1)) #row\n",
        "range(len(np_arr1)) #2nd element is exclusive"
      ],
      "execution_count": 14,
      "outputs": [
        {
          "output_type": "stream",
          "text": [
            "[[200.   80. ]\n",
            " [250.   75. ]\n",
            " [180.   25. ]\n",
            " [188.   15.4]]\n",
            "-------------------\n",
            "<class 'numpy.ndarray'>\n",
            "-------------------\n",
            "(4, 2)\n",
            "4\n"
          ],
          "name": "stdout"
        },
        {
          "output_type": "execute_result",
          "data": {
            "text/plain": [
              "range(0, 4)"
            ]
          },
          "metadata": {
            "tags": []
          },
          "execution_count": 14
        }
      ]
    },
    {
      "cell_type": "code",
      "metadata": {
        "id": "Y1Dmnp4vcKSd",
        "outputId": "41393e1c-c2ab-4a47-e9e1-3163c7c24e24",
        "colab": {
          "base_uri": "https://localhost:8080/"
        }
      },
      "source": [
        "#subsetting [row][col]\n",
        "print(np_arr1[0])\n",
        "print(np_arr1[0][1])\n",
        "print(type(np_arr1[0][1]))\n",
        "print(\"-------------------\")\n",
        "#subsetting [row,col]\n",
        "# : represents all row, col\n",
        "print(np_arr1[:,1]) #all row 2nd col\n",
        "print(np_arr1[2,:]) #3rd row all col\n",
        "print(\"-------------------\")\n",
        "print(np_arr1[0:,1]) \n",
        "print(np_arr1[1:,1]) "
      ],
      "execution_count": 157,
      "outputs": [
        {
          "output_type": "stream",
          "text": [
            "[200.  80.]\n",
            "80.0\n",
            "<class 'numpy.float64'>\n",
            "-------------------\n",
            "[80.  75.  25.  15.4]\n",
            "[180.  25.]\n",
            "-------------------\n",
            "[80.  75.  25.  15.4]\n",
            "[75.  25.  15.4]\n"
          ],
          "name": "stdout"
        }
      ]
    },
    {
      "cell_type": "code",
      "metadata": {
        "id": "dmqNiVdMdRsd",
        "outputId": "2becccd5-c083-4356-fb5d-9832ce71e184",
        "colab": {
          "base_uri": "https://localhost:8080/"
        }
      },
      "source": [
        "#basic stats\n",
        "arr1 = [[200,80],\n",
        "        [250,75],\n",
        "        [180,25],\n",
        "        [188,15.4]]\n",
        "np_arr1 = np.array(arr1) \n",
        "print(np_arr1)\n",
        "#mean\n",
        "print(\"Mean = \"+str(np.mean(np_arr1[:,0])))  #all row 1st col\n",
        "print(\"-------------------\")\n",
        "#median \n",
        "print(\"Median = \"+str(np.median(np_arr1[:,0]))) ##all row 1st col\n",
        "\n",
        "print(\"-------------------\")\n",
        "#correlation / o/p matrix\n",
        "#near 0 ~ correlated to each other\n",
        "#far from 0 ~ less correlated\n",
        "print(\"Correlation = \")\n",
        "print(np_arr1[:,0])\n",
        "print(np_arr1[:,1])\n",
        "print(np.corrcoef(np_arr1[:,0],np_arr1[:,1]))\n",
        "\n",
        "#std deviation\n",
        "print(\"Std Dev = \"+str(np.std(np_arr1[:,0])))"
      ],
      "execution_count": 8,
      "outputs": [
        {
          "output_type": "stream",
          "text": [
            "[[200.   80. ]\n",
            " [250.   75. ]\n",
            " [180.   25. ]\n",
            " [188.   15.4]]\n",
            "Mean = 204.5\n",
            "-------------------\n",
            "Median = 194.0\n",
            "-------------------\n",
            "Correlation = \n",
            "[200. 250. 180. 188.]\n",
            "[80.  75.  25.  15.4]\n",
            "[[1.         0.69465584]\n",
            " [0.69465584 1.        ]]\n",
            "Std Dev = 27.216722800513658\n"
          ],
          "name": "stdout"
        }
      ]
    },
    {
      "cell_type": "code",
      "metadata": {
        "id": "sjwD5Yy6t75j",
        "outputId": "8ae8da29-6d81-485b-af04-f1be06b59e64",
        "colab": {
          "base_uri": "https://localhost:8080/"
        }
      },
      "source": [
        "#Adding 2D\n",
        "a=[[1,2,3],\n",
        "   [4,5,6],\n",
        "   [7,8,9]]\n",
        "na=np.array(a)\n",
        "b=[[1,2,3],\n",
        "   [4,5,6],\n",
        "   [7,8,9]]\n",
        "nb=np.array(b)\n",
        "\n",
        "print(\"Addition\")\n",
        "c=na+nb\n",
        "print(c)\n",
        "\n",
        "print(\"-------------------\")\n",
        "print(\"Subtraction\")\n",
        "d=np.subtract(a1,b1)\n",
        "print(d)\n",
        "\n",
        "print(\"-------------------\")\n",
        "print(\"Division\")\n",
        "e=np.divide(a1,b1)\n",
        "print(e)\n",
        "\n",
        "print(\"-------------------\")\n",
        "print(\"Multiplication\")\n",
        "f=np.multiply(a1,b1)\n",
        "print(f)\n",
        "\n",
        "print(\"-------------------\")\n",
        "print(\"Square Root\")\n",
        "g=np.sqrt(a1)\n",
        "print(g)\n"
      ],
      "execution_count": 212,
      "outputs": [
        {
          "output_type": "stream",
          "text": [
            "Addition\n",
            "[[ 2  4  6]\n",
            " [ 8 10 12]\n",
            " [14 16 18]]\n",
            "-------------------\n",
            "Subtraction\n",
            "[[0 0 0 0]\n",
            " [0 0 0 0]]\n",
            "-------------------\n",
            "Division\n",
            "[[1. 1. 1. 1.]\n",
            " [1. 1. 1. 1.]]\n",
            "-------------------\n",
            "Multiplication\n",
            "[[ 1  4  9 16]\n",
            " [25 36 49 64]]\n",
            "-------------------\n",
            "Square Root\n",
            "[[1.         1.41421356 1.73205081 2.        ]\n",
            " [2.23606798 2.44948974 2.64575131 2.82842712]]\n"
          ],
          "name": "stdout"
        }
      ]
    },
    {
      "cell_type": "code",
      "metadata": {
        "id": "gE_mlweh54i_",
        "outputId": "e4c730f7-d091-4c89-dd75-69201d0cc303",
        "colab": {
          "base_uri": "https://localhost:8080/"
        }
      },
      "source": [
        "#multiply\n",
        "# mul=[1,2,3]\n",
        "mul=[0.5,0.2,1]\n",
        "mulc=c*mul\n",
        "mulc"
      ],
      "execution_count": 183,
      "outputs": [
        {
          "output_type": "execute_result",
          "data": {
            "text/plain": [
              "array([[ 1. ,  0.8,  6. ],\n",
              "       [ 4. ,  2. , 12. ],\n",
              "       [ 7. ,  3.2, 18. ]])"
            ]
          },
          "metadata": {
            "tags": []
          },
          "execution_count": 183
        }
      ]
    },
    {
      "cell_type": "code",
      "metadata": {
        "id": "E4pm-5bV-8F6",
        "outputId": "2d492ac9-d26a-4fd1-c54c-4eed28e05441",
        "colab": {
          "base_uri": "https://localhost:8080/"
        }
      },
      "source": [
        "#concatinate numpy array\n",
        "a1 =  np.array([(1,2,3,4),(5,6,7,8)])\n",
        "print(a1)\n",
        "print(\"-------------------\")\n",
        "b1 =  np.array([(1,2,3,4),(5,6,7,8)])\n",
        "print(b1)\n",
        "print(\"-------------------\")\n",
        "\n",
        "#Vertical stack\n",
        "print(\"Vertical\")\n",
        "print(np.vstack((a1,b1)))\n",
        "print(\"-------------------\")\n",
        "#Horizontal stack\n",
        "print(\"Horizontal\")\n",
        "print(np.hstack((a1,b1)))"
      ],
      "execution_count": 221,
      "outputs": [
        {
          "output_type": "stream",
          "text": [
            "[[1 2 3 4]\n",
            " [5 6 7 8]]\n",
            "-------------------\n",
            "[[1 2 3 4]\n",
            " [5 6 7 8]]\n",
            "-------------------\n",
            "Vertical\n",
            "[[1 2 3 4]\n",
            " [5 6 7 8]\n",
            " [1 2 3 4]\n",
            " [5 6 7 8]]\n",
            "-------------------\n",
            "Horizontal\n",
            "[[1 2 3 4 1 2 3 4]\n",
            " [5 6 7 8 5 6 7 8]]\n"
          ],
          "name": "stdout"
        }
      ]
    },
    {
      "cell_type": "code",
      "metadata": {
        "id": "u9BzLSQMATJS",
        "outputId": "4304efd3-a835-4250-a698-52a74615bfea",
        "colab": {
          "base_uri": "https://localhost:8080/"
        }
      },
      "source": [
        "#Other Basic Operations(Functions)\n",
        "print(\"Minimun =\"+str(a1.min()))\n",
        "print(\"Minimun np =\"+str(np.min(a1)))\n",
        "print(\"-------------------\")\n",
        "\n",
        "print(\"Maximun =\"+str(a1.max()))\n",
        "print(\"Maximum np =\"+str(np.max(a1)))\n",
        "print(\"-------------------\")\n",
        "\n",
        "print(\"Variance =\"+str(a1.var()))\n",
        "print(\"Ravel =\"+str(a1.ravel()))\n",
        "print(\"-------------------\")\n",
        "\n",
        "print(\"Sum =\"+str(a1.sum()))\n",
        "print(\"Sum np=\"+str(np.sum(a1)))\n",
        "print(\"Sum col np =\"+str(np.sum(a1,axis=0)))\n",
        "print(\"Sum row np =\"+str(np.sum(a1,axis=1)))"
      ],
      "execution_count": 222,
      "outputs": [
        {
          "output_type": "stream",
          "text": [
            "Minimun =1\n",
            "Minimun np =1\n",
            "-------------------\n",
            "Maximun =8\n",
            "Maximum np =8\n",
            "-------------------\n",
            "Variance =5.25\n",
            "Ravel =[1 2 3 4 5 6 7 8]\n",
            "-------------------\n",
            "Sum =36\n",
            "Sum np=36\n",
            "Sum col np =[ 6  8 10 12]\n",
            "Sum row np =[10 26]\n"
          ],
          "name": "stdout"
        }
      ]
    },
    {
      "cell_type": "code",
      "metadata": {
        "id": "NsoX0zAzCYH-",
        "outputId": "dcf7afa2-e4ef-42f1-b447-9f44ba32cabc",
        "colab": {
          "base_uri": "https://localhost:8080/"
        }
      },
      "source": [
        "a = np.zeros((2,2)) \n",
        "print(\"Array of Zeros\")\n",
        "print(a) \n",
        "print(\"-------------------\")\n",
        "\n",
        "b = np.ones((2,2))  \n",
        "print(\"Array of Ones\")\n",
        "print(b)\n",
        "print(\"-------------------\")\n",
        "\n",
        "c = np.full((2,2), 7)\n",
        "print(\"Array of Constant Value\")\n",
        "print(c)  \n",
        "print(\"-------------------\")\n",
        "\n",
        "print(\"Identity Matrix\")\n",
        "d = np.eye(2)\n",
        "print(d)\n",
        "print(\"-------------------\")\n",
        "\n",
        "print(\"Random Value Matrix\")\n",
        "e = np.random.random((2,2))\n",
        "print(e)"
      ],
      "execution_count": 209,
      "outputs": [
        {
          "output_type": "stream",
          "text": [
            "Array of Zeros\n",
            "[[0. 0.]\n",
            " [0. 0.]]\n",
            "-------------------\n",
            "Array of Ones\n",
            "[[1. 1.]\n",
            " [1. 1.]]\n",
            "-------------------\n",
            "Array of Constant Value\n",
            "[[7 7]\n",
            " [7 7]]\n",
            "-------------------\n",
            "Identity Matrix\n",
            "[[1. 0.]\n",
            " [0. 1.]]\n",
            "-------------------\n",
            "Random Value Matrix\n",
            "[[0.47081986 0.19650214]\n",
            " [0.79452455 0.45320874]]\n"
          ],
          "name": "stdout"
        }
      ]
    }
  ]
}